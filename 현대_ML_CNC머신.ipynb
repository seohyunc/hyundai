{
 "cells": [
  {
   "cell_type": "markdown",
   "id": "142e7f7b-f718-48ea-afef-5724913cd12d",
   "metadata": {},
   "source": [
    "<p align=\"center\">\n",
    "    <img src=\"https://github.com/YoungsukHan/Hyundai_equip/assets/44924554/076ffad6-abf4-431b-af15-10373ba06182\" align=\"center\">\n",
    "</p>"
   ]
  },
  {
   "attachments": {},
   "cell_type": "markdown",
   "id": "bb1d8430-fb1a-4e08-bd58-5a9be1757c35",
   "metadata": {},
   "source": [
    "# <b>[ML] CNC 머신 시계열 데이터 실습 \n",
    "\n",
    "**제목:** CNC 머신 시계열 데이터 기반 상태 분류 모형 개발<br>\n",
    "**Description:** 위치, 속도, 가속도, 전압, 전류 등 최적 조건 분석을 위한 CNC 머신 데이터를 분석하여 머신러닝 기반 상태 분류 모형 개발\n",
    "\n",
    "- DT, RF, SVM, Logistic Ridge\n",
    "\n",
    "https://www.kamp-ai.kr/aidataDetail?AI_SEARCH=&page=1&DATASET_SEQ=3"
   ]
  },
  {
   "cell_type": "markdown",
   "id": "4680bbee-3ed2-45e0-8808-970a71f9ef76",
   "metadata": {},
   "source": [
    "**수집장치**\n",
    "\n",
    "<img src=\"https://www.kamp-ai.kr/mnt/dataset/3/images/1.bmp\">\n",
    "\n",
    "|데이터 변수 종류|개수|\n",
    "|:---:|:---:|\n",
    "|샘플 관련 변수|6개|\n",
    "|기계의 X축 관련 변수|11개|\n",
    "|기계의 Y축 관련 변수|11개|\n",
    "|기계의 Z축 관련 변수|11개|\n",
    "|기계의 스핀들 관련 변수|12개|\n",
    "|기타 변수|4개|"
   ]
  },
  {
   "cell_type": "code",
   "execution_count": 1,
   "id": "5ff26ba0-fad0-429d-b2fc-7e69ca368654",
   "metadata": {},
   "outputs": [],
   "source": [
    "import time\n",
    "import pandas as pd\n",
    "import numpy as np\n",
    "\n",
    "import matplotlib.pyplot as plt\n",
    "import seaborn as sns\n",
    "\n",
    "from sklearn import preprocessing\n",
    "from sklearn.model_selection import train_test_split\n",
    "from sklearn.metrics import *\n",
    "from sklearn.model_selection import GridSearchCV\n",
    "\n",
    "from imblearn.over_sampling import *\n",
    "from imblearn.under_sampling import *\n",
    "\n",
    "from sklearn.ensemble import RandomForestClassifier\n",
    "from sklearn.tree import DecisionTreeClassifier"
   ]
  },
  {
   "cell_type": "code",
   "execution_count": 2,
   "id": "ea110279-77bf-4d0a-8f8e-7dd9d2135a55",
   "metadata": {},
   "outputs": [],
   "source": [
    "# temp = pd.read_csv('dataset/CNC 비식별화 원본데이터_1209/CNC Virtual Data set _v2/experiment_01.csv', nrows=1, encoding='cp949')\n",
    "# cols = temp.columns"
   ]
  },
  {
   "cell_type": "code",
   "execution_count": 3,
   "id": "4d66a588-e098-4dc2-a921-cae8eaa384c8",
   "metadata": {},
   "outputs": [],
   "source": [
    "cols = ['X_ActualPosition', 'X_ActualVelocity', 'X_ActualAcceleration', 'X_SetPosition', 'X_SetVelocity', 'X_SetAcceleration',\n",
    "       'X_CurrentFeedback', 'X_DCBusVoltage', 'X_OutputCurrent', 'X_OutputVoltage', 'X_OutputPower', 'Y_ActualPosition',\n",
    "       'Y_ActualVelocity', 'Y_ActualAcceleration', 'Y_SetPosition', 'Y_SetVelocity', 'Y_SetAcceleration', 'Y_CurrentFeedback',\n",
    "       'Y_DCBusVoltage', 'Y_OutputCurrent', 'Y_OutputVoltage', 'Y_OutputPower', 'Z_ActualPosition', 'Z_ActualVelocity', 'Z_ActualAcceleration',\n",
    "       'Z_SetPosition', 'Z_SetVelocity', 'Z_SetAcceleration', 'Z_CurrentFeedback', 'Z_DCBusVoltage', 'Z_OutputCurrent',\n",
    "       'Z_OutputVoltage', 'S_ActualPosition', 'S_ActualVelocity', 'S_ActualAcceleration', 'S_SetPosition', 'S_SetVelocity',\n",
    "       'S_SetAcceleration', 'S_CurrentFeedback', 'S_DCBusVoltage', 'S_OutputCurrent', 'S_OutputVoltage', 'S_OutputPower',\n",
    "       'S_SystemInertia', 'M_CURRENT_PROGRAM_NUMBER', 'M_sequence_number', 'M_CURRENT_FEEDRATE', 'Machining_Process']"
   ]
  },
  {
   "cell_type": "code",
   "execution_count": 4,
   "id": "4923ad54-4b73-40b1-aef3-d634f3ba767f",
   "metadata": {},
   "outputs": [],
   "source": [
    "# 데이터셋 불러오기\n",
    "X_train = pd.read_csv('dataset/CNC 학습통합데이터_1209/X_train.csv', encoding='cp949', names=cols)\n",
    "y_train = pd.read_csv('dataset/CNC 학습통합데이터_1209/y_train.csv', encoding='cp949', names=['OK', 'TAG'])\n",
    "\n",
    "X_test = pd.read_csv('dataset/CNC 학습통합데이터_1209/X_test.csv', encoding='cp949', names=cols)\n",
    "y_test = pd.read_csv('dataset/CNC 학습통합데이터_1209/y_test.csv', encoding='cp949', names=['OK', 'TAG'])"
   ]
  },
  {
   "cell_type": "code",
   "execution_count": 5,
   "id": "739542b1-5a90-4d1f-b4b6-81cb3c9822cf",
   "metadata": {},
   "outputs": [
    {
     "data": {
      "text/html": [
       "<div>\n",
       "<style scoped>\n",
       "    .dataframe tbody tr th:only-of-type {\n",
       "        vertical-align: middle;\n",
       "    }\n",
       "\n",
       "    .dataframe tbody tr th {\n",
       "        vertical-align: top;\n",
       "    }\n",
       "\n",
       "    .dataframe thead th {\n",
       "        text-align: right;\n",
       "    }\n",
       "</style>\n",
       "<table border=\"1\" class=\"dataframe\">\n",
       "  <thead>\n",
       "    <tr style=\"text-align: right;\">\n",
       "      <th></th>\n",
       "      <th>X_ActualPosition</th>\n",
       "      <th>X_ActualVelocity</th>\n",
       "      <th>X_ActualAcceleration</th>\n",
       "      <th>X_SetPosition</th>\n",
       "      <th>X_SetVelocity</th>\n",
       "      <th>X_SetAcceleration</th>\n",
       "      <th>X_CurrentFeedback</th>\n",
       "      <th>X_DCBusVoltage</th>\n",
       "      <th>X_OutputCurrent</th>\n",
       "      <th>X_OutputVoltage</th>\n",
       "      <th>...</th>\n",
       "      <th>S_CurrentFeedback</th>\n",
       "      <th>S_DCBusVoltage</th>\n",
       "      <th>S_OutputCurrent</th>\n",
       "      <th>S_OutputVoltage</th>\n",
       "      <th>S_OutputPower</th>\n",
       "      <th>S_SystemInertia</th>\n",
       "      <th>M_CURRENT_PROGRAM_NUMBER</th>\n",
       "      <th>M_sequence_number</th>\n",
       "      <th>M_CURRENT_FEEDRATE</th>\n",
       "      <th>Machining_Process</th>\n",
       "    </tr>\n",
       "  </thead>\n",
       "  <tbody>\n",
       "    <tr>\n",
       "      <th>0</th>\n",
       "      <td>202.0</td>\n",
       "      <td>4.0</td>\n",
       "      <td>4.00</td>\n",
       "      <td>202.0</td>\n",
       "      <td>4.0</td>\n",
       "      <td>4.000000</td>\n",
       "      <td>0.18</td>\n",
       "      <td>0.0207</td>\n",
       "      <td>329</td>\n",
       "      <td>2.77</td>\n",
       "      <td>...</td>\n",
       "      <td>0.524</td>\n",
       "      <td>2.740000e-19</td>\n",
       "      <td>329</td>\n",
       "      <td>0.0</td>\n",
       "      <td>6.960000e-07</td>\n",
       "      <td>16.0</td>\n",
       "      <td>1</td>\n",
       "      <td>0</td>\n",
       "      <td>50</td>\n",
       "      <td>8</td>\n",
       "    </tr>\n",
       "    <tr>\n",
       "      <th>1</th>\n",
       "      <td>202.0</td>\n",
       "      <td>-6.8</td>\n",
       "      <td>-346.00</td>\n",
       "      <td>202.0</td>\n",
       "      <td>-9.6</td>\n",
       "      <td>-354.000000</td>\n",
       "      <td>-10.90</td>\n",
       "      <td>0.1860</td>\n",
       "      <td>328</td>\n",
       "      <td>23.30</td>\n",
       "      <td>...</td>\n",
       "      <td>-0.288</td>\n",
       "      <td>2.740000e-19</td>\n",
       "      <td>328</td>\n",
       "      <td>0.0</td>\n",
       "      <td>-5.270000e-07</td>\n",
       "      <td>16.0</td>\n",
       "      <td>1</td>\n",
       "      <td>4</td>\n",
       "      <td>50</td>\n",
       "      <td>0</td>\n",
       "    </tr>\n",
       "    <tr>\n",
       "      <th>2</th>\n",
       "      <td>200.0</td>\n",
       "      <td>-13.8</td>\n",
       "      <td>-2.25</td>\n",
       "      <td>200.0</td>\n",
       "      <td>-13.9</td>\n",
       "      <td>3.999905</td>\n",
       "      <td>-8.59</td>\n",
       "      <td>0.1400</td>\n",
       "      <td>328</td>\n",
       "      <td>30.60</td>\n",
       "      <td>...</td>\n",
       "      <td>0.524</td>\n",
       "      <td>2.740000e-19</td>\n",
       "      <td>328</td>\n",
       "      <td>0.0</td>\n",
       "      <td>9.100000e-07</td>\n",
       "      <td>16.0</td>\n",
       "      <td>1</td>\n",
       "      <td>7</td>\n",
       "      <td>50</td>\n",
       "      <td>0</td>\n",
       "    </tr>\n",
       "    <tr>\n",
       "      <th>3</th>\n",
       "      <td>198.0</td>\n",
       "      <td>-14.0</td>\n",
       "      <td>4.00</td>\n",
       "      <td>198.0</td>\n",
       "      <td>-13.9</td>\n",
       "      <td>3.999905</td>\n",
       "      <td>-6.11</td>\n",
       "      <td>0.1300</td>\n",
       "      <td>327</td>\n",
       "      <td>30.30</td>\n",
       "      <td>...</td>\n",
       "      <td>-0.180</td>\n",
       "      <td>2.740000e-19</td>\n",
       "      <td>328</td>\n",
       "      <td>0.0</td>\n",
       "      <td>1.070000e-06</td>\n",
       "      <td>16.0</td>\n",
       "      <td>1</td>\n",
       "      <td>7</td>\n",
       "      <td>50</td>\n",
       "      <td>0</td>\n",
       "    </tr>\n",
       "    <tr>\n",
       "      <th>4</th>\n",
       "      <td>197.0</td>\n",
       "      <td>-13.9</td>\n",
       "      <td>-14.80</td>\n",
       "      <td>196.0</td>\n",
       "      <td>-13.9</td>\n",
       "      <td>4.000095</td>\n",
       "      <td>-5.70</td>\n",
       "      <td>0.1140</td>\n",
       "      <td>328</td>\n",
       "      <td>30.50</td>\n",
       "      <td>...</td>\n",
       "      <td>0.226</td>\n",
       "      <td>2.740000e-19</td>\n",
       "      <td>328</td>\n",
       "      <td>0.0</td>\n",
       "      <td>1.960000e-06</td>\n",
       "      <td>16.0</td>\n",
       "      <td>1</td>\n",
       "      <td>7</td>\n",
       "      <td>50</td>\n",
       "      <td>0</td>\n",
       "    </tr>\n",
       "  </tbody>\n",
       "</table>\n",
       "<p>5 rows × 48 columns</p>\n",
       "</div>"
      ],
      "text/plain": [
       "   X_ActualPosition  X_ActualVelocity  X_ActualAcceleration  X_SetPosition  \\\n",
       "0             202.0               4.0                  4.00          202.0   \n",
       "1             202.0              -6.8               -346.00          202.0   \n",
       "2             200.0             -13.8                 -2.25          200.0   \n",
       "3             198.0             -14.0                  4.00          198.0   \n",
       "4             197.0             -13.9                -14.80          196.0   \n",
       "\n",
       "   X_SetVelocity  X_SetAcceleration  X_CurrentFeedback  X_DCBusVoltage  \\\n",
       "0            4.0           4.000000               0.18          0.0207   \n",
       "1           -9.6        -354.000000             -10.90          0.1860   \n",
       "2          -13.9           3.999905              -8.59          0.1400   \n",
       "3          -13.9           3.999905              -6.11          0.1300   \n",
       "4          -13.9           4.000095              -5.70          0.1140   \n",
       "\n",
       "   X_OutputCurrent  X_OutputVoltage  ...  S_CurrentFeedback  S_DCBusVoltage  \\\n",
       "0              329             2.77  ...              0.524    2.740000e-19   \n",
       "1              328            23.30  ...             -0.288    2.740000e-19   \n",
       "2              328            30.60  ...              0.524    2.740000e-19   \n",
       "3              327            30.30  ...             -0.180    2.740000e-19   \n",
       "4              328            30.50  ...              0.226    2.740000e-19   \n",
       "\n",
       "   S_OutputCurrent  S_OutputVoltage  S_OutputPower  S_SystemInertia  \\\n",
       "0              329              0.0   6.960000e-07             16.0   \n",
       "1              328              0.0  -5.270000e-07             16.0   \n",
       "2              328              0.0   9.100000e-07             16.0   \n",
       "3              328              0.0   1.070000e-06             16.0   \n",
       "4              328              0.0   1.960000e-06             16.0   \n",
       "\n",
       "   M_CURRENT_PROGRAM_NUMBER  M_sequence_number  M_CURRENT_FEEDRATE  \\\n",
       "0                         1                  0                  50   \n",
       "1                         1                  4                  50   \n",
       "2                         1                  7                  50   \n",
       "3                         1                  7                  50   \n",
       "4                         1                  7                  50   \n",
       "\n",
       "   Machining_Process  \n",
       "0                  8  \n",
       "1                  0  \n",
       "2                  0  \n",
       "3                  0  \n",
       "4                  0  \n",
       "\n",
       "[5 rows x 48 columns]"
      ]
     },
     "execution_count": 5,
     "metadata": {},
     "output_type": "execute_result"
    }
   ],
   "source": [
    "X_train.head()"
   ]
  },
  {
   "cell_type": "code",
   "execution_count": 6,
   "id": "117773aa-f793-4ea0-9f2c-7399d92f90fb",
   "metadata": {},
   "outputs": [
    {
     "data": {
      "text/plain": [
       "(18806, 48)"
      ]
     },
     "execution_count": 6,
     "metadata": {},
     "output_type": "execute_result"
    }
   ],
   "source": [
    "X_train.shape"
   ]
  },
  {
   "cell_type": "code",
   "execution_count": 7,
   "id": "37939e93-49fb-4884-a239-f7a30cd134ab",
   "metadata": {},
   "outputs": [
    {
     "data": {
      "text/html": [
       "<div>\n",
       "<style scoped>\n",
       "    .dataframe tbody tr th:only-of-type {\n",
       "        vertical-align: middle;\n",
       "    }\n",
       "\n",
       "    .dataframe tbody tr th {\n",
       "        vertical-align: top;\n",
       "    }\n",
       "\n",
       "    .dataframe thead th {\n",
       "        text-align: right;\n",
       "    }\n",
       "</style>\n",
       "<table border=\"1\" class=\"dataframe\">\n",
       "  <thead>\n",
       "    <tr style=\"text-align: right;\">\n",
       "      <th></th>\n",
       "      <th>OK</th>\n",
       "      <th>TAG</th>\n",
       "    </tr>\n",
       "  </thead>\n",
       "  <tbody>\n",
       "    <tr>\n",
       "      <th>0</th>\n",
       "      <td>1.0</td>\n",
       "      <td>0.0</td>\n",
       "    </tr>\n",
       "    <tr>\n",
       "      <th>1</th>\n",
       "      <td>1.0</td>\n",
       "      <td>0.0</td>\n",
       "    </tr>\n",
       "    <tr>\n",
       "      <th>2</th>\n",
       "      <td>1.0</td>\n",
       "      <td>0.0</td>\n",
       "    </tr>\n",
       "    <tr>\n",
       "      <th>3</th>\n",
       "      <td>1.0</td>\n",
       "      <td>0.0</td>\n",
       "    </tr>\n",
       "    <tr>\n",
       "      <th>4</th>\n",
       "      <td>1.0</td>\n",
       "      <td>0.0</td>\n",
       "    </tr>\n",
       "  </tbody>\n",
       "</table>\n",
       "</div>"
      ],
      "text/plain": [
       "    OK  TAG\n",
       "0  1.0  0.0\n",
       "1  1.0  0.0\n",
       "2  1.0  0.0\n",
       "3  1.0  0.0\n",
       "4  1.0  0.0"
      ]
     },
     "execution_count": 7,
     "metadata": {},
     "output_type": "execute_result"
    }
   ],
   "source": [
    "y_train.head()"
   ]
  },
  {
   "cell_type": "code",
   "execution_count": 8,
   "id": "51692326-74b2-439a-9040-b3ae17fde880",
   "metadata": {},
   "outputs": [],
   "source": [
    "y_train.drop(columns=['OK'], axis=1, inplace=True)\n",
    "y_test.drop(columns=['OK'], axis=1, inplace=True)"
   ]
  },
  {
   "cell_type": "code",
   "execution_count": 9,
   "id": "20c0df7a-d5cb-4356-8707-1d862089d01d",
   "metadata": {},
   "outputs": [
    {
     "data": {
      "text/plain": [
       "TAG\n",
       "0.0    9403\n",
       "1.0    9403\n",
       "Name: count, dtype: int64"
      ]
     },
     "execution_count": 9,
     "metadata": {},
     "output_type": "execute_result"
    }
   ],
   "source": [
    "y_train['TAG'].value_counts() # 0 : 양품, 1 : 불량품"
   ]
  },
  {
   "cell_type": "code",
   "execution_count": 10,
   "id": "dfe0e564-3891-4fef-81cc-36392e5a2984",
   "metadata": {},
   "outputs": [
    {
     "data": {
      "text/plain": [
       "TAG\n",
       "0.0    13242\n",
       "Name: count, dtype: int64"
      ]
     },
     "execution_count": 10,
     "metadata": {},
     "output_type": "execute_result"
    }
   ],
   "source": [
    "y_test['TAG'].value_counts() # 0 : 양품, 1 : 불량품"
   ]
  },
  {
   "cell_type": "markdown",
   "id": "5da881c2-172e-4ee7-bbad-9156d5061fad",
   "metadata": {},
   "source": [
    "(주의) 테스트셋에는 양품만 존재하여 트레이닝셋과 테스트셋을 병합 후, 각각 양품/불량품 모두 존재하게 다시 분할"
   ]
  },
  {
   "cell_type": "code",
   "execution_count": 11,
   "id": "ca489c71-1266-45a9-80fe-a1f37ba75c8a",
   "metadata": {},
   "outputs": [],
   "source": [
    "train = pd.concat([X_train, y_train], axis=1)\n",
    "test = pd.concat([X_test, y_test], axis=1)\n",
    "\n",
    "df = pd.concat([train, test], axis=0)\n",
    "df = df.reset_index(drop=True)"
   ]
  },
  {
   "cell_type": "code",
   "execution_count": 12,
   "id": "d62ac65f-43ec-4139-be83-f7561e50e526",
   "metadata": {},
   "outputs": [
    {
     "data": {
      "text/html": [
       "<div>\n",
       "<style scoped>\n",
       "    .dataframe tbody tr th:only-of-type {\n",
       "        vertical-align: middle;\n",
       "    }\n",
       "\n",
       "    .dataframe tbody tr th {\n",
       "        vertical-align: top;\n",
       "    }\n",
       "\n",
       "    .dataframe thead th {\n",
       "        text-align: right;\n",
       "    }\n",
       "</style>\n",
       "<table border=\"1\" class=\"dataframe\">\n",
       "  <thead>\n",
       "    <tr style=\"text-align: right;\">\n",
       "      <th></th>\n",
       "      <th>X_ActualPosition</th>\n",
       "      <th>X_ActualVelocity</th>\n",
       "      <th>X_ActualAcceleration</th>\n",
       "      <th>X_SetPosition</th>\n",
       "      <th>X_SetVelocity</th>\n",
       "      <th>X_SetAcceleration</th>\n",
       "      <th>X_CurrentFeedback</th>\n",
       "      <th>X_DCBusVoltage</th>\n",
       "      <th>X_OutputCurrent</th>\n",
       "      <th>X_OutputVoltage</th>\n",
       "      <th>...</th>\n",
       "      <th>S_CurrentFeedback</th>\n",
       "      <th>S_DCBusVoltage</th>\n",
       "      <th>S_OutputCurrent</th>\n",
       "      <th>S_OutputVoltage</th>\n",
       "      <th>S_OutputPower</th>\n",
       "      <th>S_SystemInertia</th>\n",
       "      <th>M_CURRENT_PROGRAM_NUMBER</th>\n",
       "      <th>M_sequence_number</th>\n",
       "      <th>M_CURRENT_FEEDRATE</th>\n",
       "      <th>Machining_Process</th>\n",
       "    </tr>\n",
       "  </thead>\n",
       "  <tbody>\n",
       "    <tr>\n",
       "      <th>count</th>\n",
       "      <td>18806.000000</td>\n",
       "      <td>18806.000000</td>\n",
       "      <td>18806.000000</td>\n",
       "      <td>18806.000000</td>\n",
       "      <td>18806.000000</td>\n",
       "      <td>18806.000000</td>\n",
       "      <td>18806.000000</td>\n",
       "      <td>1.880600e+04</td>\n",
       "      <td>18806.000000</td>\n",
       "      <td>18806.000000</td>\n",
       "      <td>...</td>\n",
       "      <td>18806.000000</td>\n",
       "      <td>1.880600e+04</td>\n",
       "      <td>18806.000000</td>\n",
       "      <td>18806.000000</td>\n",
       "      <td>18806.000000</td>\n",
       "      <td>18806.000000</td>\n",
       "      <td>18806.000000</td>\n",
       "      <td>18806.000000</td>\n",
       "      <td>18806.000000</td>\n",
       "      <td>18806.000000</td>\n",
       "    </tr>\n",
       "    <tr>\n",
       "      <th>mean</th>\n",
       "      <td>167.707168</td>\n",
       "      <td>3.652443</td>\n",
       "      <td>4.611939</td>\n",
       "      <td>167.705280</td>\n",
       "      <td>3.661146</td>\n",
       "      <td>4.593118</td>\n",
       "      <td>-0.528772</td>\n",
       "      <td>5.912743e-02</td>\n",
       "      <td>326.657662</td>\n",
       "      <td>8.159660</td>\n",
       "      <td>...</td>\n",
       "      <td>12.335379</td>\n",
       "      <td>5.461668e-01</td>\n",
       "      <td>323.379241</td>\n",
       "      <td>68.114896</td>\n",
       "      <td>0.103512</td>\n",
       "      <td>16.004945</td>\n",
       "      <td>1.009252</td>\n",
       "      <td>37.200255</td>\n",
       "      <td>23.368659</td>\n",
       "      <td>3.954748</td>\n",
       "    </tr>\n",
       "    <tr>\n",
       "      <th>std</th>\n",
       "      <td>20.820486</td>\n",
       "      <td>6.525964</td>\n",
       "      <td>102.797174</td>\n",
       "      <td>20.822356</td>\n",
       "      <td>6.537311</td>\n",
       "      <td>86.564245</td>\n",
       "      <td>4.149693</td>\n",
       "      <td>4.494101e-02</td>\n",
       "      <td>1.662001</td>\n",
       "      <td>9.960586</td>\n",
       "      <td>...</td>\n",
       "      <td>11.450005</td>\n",
       "      <td>4.899729e-01</td>\n",
       "      <td>4.847668</td>\n",
       "      <td>58.373242</td>\n",
       "      <td>0.090861</td>\n",
       "      <td>0.857813</td>\n",
       "      <td>0.572358</td>\n",
       "      <td>43.000020</td>\n",
       "      <td>20.621855</td>\n",
       "      <td>2.616196</td>\n",
       "    </tr>\n",
       "    <tr>\n",
       "      <th>min</th>\n",
       "      <td>144.000000</td>\n",
       "      <td>-17.300000</td>\n",
       "      <td>-1275.000000</td>\n",
       "      <td>144.000000</td>\n",
       "      <td>-17.000000</td>\n",
       "      <td>-997.000000</td>\n",
       "      <td>-23.400000</td>\n",
       "      <td>2.780000e-19</td>\n",
       "      <td>320.000000</td>\n",
       "      <td>0.000000</td>\n",
       "      <td>...</td>\n",
       "      <td>-8.280000</td>\n",
       "      <td>0.000000e+00</td>\n",
       "      <td>290.000000</td>\n",
       "      <td>0.000000</td>\n",
       "      <td>-0.002960</td>\n",
       "      <td>15.000000</td>\n",
       "      <td>0.000000</td>\n",
       "      <td>0.000000</td>\n",
       "      <td>3.000000</td>\n",
       "      <td>0.000000</td>\n",
       "    </tr>\n",
       "    <tr>\n",
       "      <th>25%</th>\n",
       "      <td>150.500000</td>\n",
       "      <td>2.392500</td>\n",
       "      <td>-20.000000</td>\n",
       "      <td>150.125000</td>\n",
       "      <td>2.391000</td>\n",
       "      <td>3.000000</td>\n",
       "      <td>-3.380000</td>\n",
       "      <td>2.210000e-02</td>\n",
       "      <td>325.000000</td>\n",
       "      <td>1.260000</td>\n",
       "      <td>...</td>\n",
       "      <td>0.207000</td>\n",
       "      <td>2.760000e-19</td>\n",
       "      <td>320.000000</td>\n",
       "      <td>0.000000</td>\n",
       "      <td>0.000000</td>\n",
       "      <td>15.000000</td>\n",
       "      <td>1.000000</td>\n",
       "      <td>0.000000</td>\n",
       "      <td>6.000000</td>\n",
       "      <td>1.000000</td>\n",
       "    </tr>\n",
       "    <tr>\n",
       "      <th>50%</th>\n",
       "      <td>161.000000</td>\n",
       "      <td>4.000000</td>\n",
       "      <td>4.000000</td>\n",
       "      <td>161.000000</td>\n",
       "      <td>4.000000</td>\n",
       "      <td>4.000000</td>\n",
       "      <td>-0.533000</td>\n",
       "      <td>5.390000e-02</td>\n",
       "      <td>327.000000</td>\n",
       "      <td>4.735000</td>\n",
       "      <td>...</td>\n",
       "      <td>16.900000</td>\n",
       "      <td>8.100000e-01</td>\n",
       "      <td>323.000000</td>\n",
       "      <td>116.000000</td>\n",
       "      <td>0.154000</td>\n",
       "      <td>16.000000</td>\n",
       "      <td>1.000000</td>\n",
       "      <td>19.000000</td>\n",
       "      <td>15.000000</td>\n",
       "      <td>4.000000</td>\n",
       "    </tr>\n",
       "    <tr>\n",
       "      <th>75%</th>\n",
       "      <td>182.000000</td>\n",
       "      <td>5.025000</td>\n",
       "      <td>28.000000</td>\n",
       "      <td>182.000000</td>\n",
       "      <td>5.000000</td>\n",
       "      <td>5.000000</td>\n",
       "      <td>1.660000</td>\n",
       "      <td>9.080000e-02</td>\n",
       "      <td>328.000000</td>\n",
       "      <td>10.800000</td>\n",
       "      <td>...</td>\n",
       "      <td>21.800000</td>\n",
       "      <td>9.480000e-01</td>\n",
       "      <td>327.000000</td>\n",
       "      <td>119.000000</td>\n",
       "      <td>0.182000</td>\n",
       "      <td>17.000000</td>\n",
       "      <td>1.000000</td>\n",
       "      <td>71.000000</td>\n",
       "      <td>50.000000</td>\n",
       "      <td>7.000000</td>\n",
       "    </tr>\n",
       "    <tr>\n",
       "      <th>max</th>\n",
       "      <td>203.000000</td>\n",
       "      <td>55.300000</td>\n",
       "      <td>1444.000000</td>\n",
       "      <td>203.000000</td>\n",
       "      <td>55.000000</td>\n",
       "      <td>1005.000000</td>\n",
       "      <td>27.100000</td>\n",
       "      <td>3.800000e-01</td>\n",
       "      <td>331.000000</td>\n",
       "      <td>75.400000</td>\n",
       "      <td>...</td>\n",
       "      <td>75.400000</td>\n",
       "      <td>3.160000e+00</td>\n",
       "      <td>332.000000</td>\n",
       "      <td>130.000000</td>\n",
       "      <td>0.569000</td>\n",
       "      <td>17.000000</td>\n",
       "      <td>4.000000</td>\n",
       "      <td>135.000000</td>\n",
       "      <td>50.000000</td>\n",
       "      <td>8.000000</td>\n",
       "    </tr>\n",
       "  </tbody>\n",
       "</table>\n",
       "<p>8 rows × 48 columns</p>\n",
       "</div>"
      ],
      "text/plain": [
       "       X_ActualPosition  X_ActualVelocity  X_ActualAcceleration  \\\n",
       "count      18806.000000      18806.000000          18806.000000   \n",
       "mean         167.707168          3.652443              4.611939   \n",
       "std           20.820486          6.525964            102.797174   \n",
       "min          144.000000        -17.300000          -1275.000000   \n",
       "25%          150.500000          2.392500            -20.000000   \n",
       "50%          161.000000          4.000000              4.000000   \n",
       "75%          182.000000          5.025000             28.000000   \n",
       "max          203.000000         55.300000           1444.000000   \n",
       "\n",
       "       X_SetPosition  X_SetVelocity  X_SetAcceleration  X_CurrentFeedback  \\\n",
       "count   18806.000000   18806.000000       18806.000000       18806.000000   \n",
       "mean      167.705280       3.661146           4.593118          -0.528772   \n",
       "std        20.822356       6.537311          86.564245           4.149693   \n",
       "min       144.000000     -17.000000        -997.000000         -23.400000   \n",
       "25%       150.125000       2.391000           3.000000          -3.380000   \n",
       "50%       161.000000       4.000000           4.000000          -0.533000   \n",
       "75%       182.000000       5.000000           5.000000           1.660000   \n",
       "max       203.000000      55.000000        1005.000000          27.100000   \n",
       "\n",
       "       X_DCBusVoltage  X_OutputCurrent  X_OutputVoltage  ...  \\\n",
       "count    1.880600e+04     18806.000000     18806.000000  ...   \n",
       "mean     5.912743e-02       326.657662         8.159660  ...   \n",
       "std      4.494101e-02         1.662001         9.960586  ...   \n",
       "min      2.780000e-19       320.000000         0.000000  ...   \n",
       "25%      2.210000e-02       325.000000         1.260000  ...   \n",
       "50%      5.390000e-02       327.000000         4.735000  ...   \n",
       "75%      9.080000e-02       328.000000        10.800000  ...   \n",
       "max      3.800000e-01       331.000000        75.400000  ...   \n",
       "\n",
       "       S_CurrentFeedback  S_DCBusVoltage  S_OutputCurrent  S_OutputVoltage  \\\n",
       "count       18806.000000    1.880600e+04     18806.000000     18806.000000   \n",
       "mean           12.335379    5.461668e-01       323.379241        68.114896   \n",
       "std            11.450005    4.899729e-01         4.847668        58.373242   \n",
       "min            -8.280000    0.000000e+00       290.000000         0.000000   \n",
       "25%             0.207000    2.760000e-19       320.000000         0.000000   \n",
       "50%            16.900000    8.100000e-01       323.000000       116.000000   \n",
       "75%            21.800000    9.480000e-01       327.000000       119.000000   \n",
       "max            75.400000    3.160000e+00       332.000000       130.000000   \n",
       "\n",
       "       S_OutputPower  S_SystemInertia  M_CURRENT_PROGRAM_NUMBER  \\\n",
       "count   18806.000000     18806.000000              18806.000000   \n",
       "mean        0.103512        16.004945                  1.009252   \n",
       "std         0.090861         0.857813                  0.572358   \n",
       "min        -0.002960        15.000000                  0.000000   \n",
       "25%         0.000000        15.000000                  1.000000   \n",
       "50%         0.154000        16.000000                  1.000000   \n",
       "75%         0.182000        17.000000                  1.000000   \n",
       "max         0.569000        17.000000                  4.000000   \n",
       "\n",
       "       M_sequence_number  M_CURRENT_FEEDRATE  Machining_Process  \n",
       "count       18806.000000        18806.000000       18806.000000  \n",
       "mean           37.200255           23.368659           3.954748  \n",
       "std            43.000020           20.621855           2.616196  \n",
       "min             0.000000            3.000000           0.000000  \n",
       "25%             0.000000            6.000000           1.000000  \n",
       "50%            19.000000           15.000000           4.000000  \n",
       "75%            71.000000           50.000000           7.000000  \n",
       "max           135.000000           50.000000           8.000000  \n",
       "\n",
       "[8 rows x 48 columns]"
      ]
     },
     "execution_count": 12,
     "metadata": {},
     "output_type": "execute_result"
    }
   ],
   "source": [
    "X_train.describe()"
   ]
  },
  {
   "cell_type": "code",
   "execution_count": 13,
   "id": "f48570fc-3376-4ee2-9f91-e5fcdfd39f1a",
   "metadata": {},
   "outputs": [],
   "source": [
    "# # https://seaborn.pydata.org/generated/seaborn.pairplot.html\n",
    "# start_time = time.time()\n",
    "\n",
    "# sns.pairplot(df, diag_kind='kde', hue='TAG', plot_kws=dict(marker=\"+\", linewidth=1, alpha=0.1))\n",
    "# plt.show()\n",
    "\n",
    "# end_time = time.time()\n",
    "# print(f\"Execution time: {end_time - start_time} seconds\")"
   ]
  },
  {
   "cell_type": "code",
   "execution_count": 14,
   "id": "ed699364-1a24-44e4-ace0-2dc93bc340cb",
   "metadata": {},
   "outputs": [],
   "source": [
    "X_train, X_test, y_train, y_test = train_test_split(df[cols], df['TAG'], test_size=0.3, shuffle=True, random_state=0, stratify=df['TAG'])"
   ]
  },
  {
   "cell_type": "code",
   "execution_count": 15,
   "id": "52368854-75a6-4717-bd64-5361e3125cc1",
   "metadata": {},
   "outputs": [
    {
     "data": {
      "text/plain": [
       "(TAG\n",
       " 0.0    15851\n",
       " 1.0     6582\n",
       " Name: count, dtype: int64,\n",
       " TAG\n",
       " 0.0    6794\n",
       " 1.0    2821\n",
       " Name: count, dtype: int64)"
      ]
     },
     "execution_count": 15,
     "metadata": {},
     "output_type": "execute_result"
    }
   ],
   "source": [
    "y_train.value_counts(), y_test.value_counts()"
   ]
  },
  {
   "cell_type": "markdown",
   "id": "b615b94b-6995-4a1c-b78c-e6c489d5d856",
   "metadata": {},
   "source": [
    "### Decision Tree"
   ]
  },
  {
   "cell_type": "code",
   "execution_count": 16,
   "id": "aa648c28-56e2-4bf5-87e7-6bfc65e0a31a",
   "metadata": {},
   "outputs": [],
   "source": [
    "dt_params = {\n",
    "    'criterion': ['gini', 'entropy'],\n",
    "    'max_depth' : [3, 4],\n",
    "}"
   ]
  },
  {
   "cell_type": "code",
   "execution_count": 17,
   "id": "4f9025d9-ef9e-4dce-9959-69119c5ff87a",
   "metadata": {},
   "outputs": [],
   "source": [
    "dt_clf = DecisionTreeClassifier(random_state=0)"
   ]
  },
  {
   "cell_type": "code",
   "execution_count": 18,
   "id": "c721909a-eb2e-43a9-8cc8-573e9e9cc0c6",
   "metadata": {},
   "outputs": [],
   "source": [
    "dt_grid = GridSearchCV(estimator=dt_clf, param_grid=dt_params, cv=5, scoring='f1', refit=True, verbose=1)"
   ]
  },
  {
   "cell_type": "code",
   "execution_count": 19,
   "id": "00b9264e-ccc2-4f42-94ee-514f7f0ae8fd",
   "metadata": {},
   "outputs": [
    {
     "name": "stdout",
     "output_type": "stream",
     "text": [
      "Fitting 5 folds for each of 4 candidates, totalling 20 fits\n",
      "CPU times: total: 1.89 s\n",
      "Wall time: 1.9 s\n"
     ]
    },
    {
     "data": {
      "text/html": [
       "<style>#sk-container-id-1 {color: black;}#sk-container-id-1 pre{padding: 0;}#sk-container-id-1 div.sk-toggleable {background-color: white;}#sk-container-id-1 label.sk-toggleable__label {cursor: pointer;display: block;width: 100%;margin-bottom: 0;padding: 0.3em;box-sizing: border-box;text-align: center;}#sk-container-id-1 label.sk-toggleable__label-arrow:before {content: \"▸\";float: left;margin-right: 0.25em;color: #696969;}#sk-container-id-1 label.sk-toggleable__label-arrow:hover:before {color: black;}#sk-container-id-1 div.sk-estimator:hover label.sk-toggleable__label-arrow:before {color: black;}#sk-container-id-1 div.sk-toggleable__content {max-height: 0;max-width: 0;overflow: hidden;text-align: left;background-color: #f0f8ff;}#sk-container-id-1 div.sk-toggleable__content pre {margin: 0.2em;color: black;border-radius: 0.25em;background-color: #f0f8ff;}#sk-container-id-1 input.sk-toggleable__control:checked~div.sk-toggleable__content {max-height: 200px;max-width: 100%;overflow: auto;}#sk-container-id-1 input.sk-toggleable__control:checked~label.sk-toggleable__label-arrow:before {content: \"▾\";}#sk-container-id-1 div.sk-estimator input.sk-toggleable__control:checked~label.sk-toggleable__label {background-color: #d4ebff;}#sk-container-id-1 div.sk-label input.sk-toggleable__control:checked~label.sk-toggleable__label {background-color: #d4ebff;}#sk-container-id-1 input.sk-hidden--visually {border: 0;clip: rect(1px 1px 1px 1px);clip: rect(1px, 1px, 1px, 1px);height: 1px;margin: -1px;overflow: hidden;padding: 0;position: absolute;width: 1px;}#sk-container-id-1 div.sk-estimator {font-family: monospace;background-color: #f0f8ff;border: 1px dotted black;border-radius: 0.25em;box-sizing: border-box;margin-bottom: 0.5em;}#sk-container-id-1 div.sk-estimator:hover {background-color: #d4ebff;}#sk-container-id-1 div.sk-parallel-item::after {content: \"\";width: 100%;border-bottom: 1px solid gray;flex-grow: 1;}#sk-container-id-1 div.sk-label:hover label.sk-toggleable__label {background-color: #d4ebff;}#sk-container-id-1 div.sk-serial::before {content: \"\";position: absolute;border-left: 1px solid gray;box-sizing: border-box;top: 0;bottom: 0;left: 50%;z-index: 0;}#sk-container-id-1 div.sk-serial {display: flex;flex-direction: column;align-items: center;background-color: white;padding-right: 0.2em;padding-left: 0.2em;position: relative;}#sk-container-id-1 div.sk-item {position: relative;z-index: 1;}#sk-container-id-1 div.sk-parallel {display: flex;align-items: stretch;justify-content: center;background-color: white;position: relative;}#sk-container-id-1 div.sk-item::before, #sk-container-id-1 div.sk-parallel-item::before {content: \"\";position: absolute;border-left: 1px solid gray;box-sizing: border-box;top: 0;bottom: 0;left: 50%;z-index: -1;}#sk-container-id-1 div.sk-parallel-item {display: flex;flex-direction: column;z-index: 1;position: relative;background-color: white;}#sk-container-id-1 div.sk-parallel-item:first-child::after {align-self: flex-end;width: 50%;}#sk-container-id-1 div.sk-parallel-item:last-child::after {align-self: flex-start;width: 50%;}#sk-container-id-1 div.sk-parallel-item:only-child::after {width: 0;}#sk-container-id-1 div.sk-dashed-wrapped {border: 1px dashed gray;margin: 0 0.4em 0.5em 0.4em;box-sizing: border-box;padding-bottom: 0.4em;background-color: white;}#sk-container-id-1 div.sk-label label {font-family: monospace;font-weight: bold;display: inline-block;line-height: 1.2em;}#sk-container-id-1 div.sk-label-container {text-align: center;}#sk-container-id-1 div.sk-container {/* jupyter's `normalize.less` sets `[hidden] { display: none; }` but bootstrap.min.css set `[hidden] { display: none !important; }` so we also need the `!important` here to be able to override the default hidden behavior on the sphinx rendered scikit-learn.org. See: https://github.com/scikit-learn/scikit-learn/issues/21755 */display: inline-block !important;position: relative;}#sk-container-id-1 div.sk-text-repr-fallback {display: none;}</style><div id=\"sk-container-id-1\" class=\"sk-top-container\"><div class=\"sk-text-repr-fallback\"><pre>GridSearchCV(cv=5, estimator=DecisionTreeClassifier(random_state=0),\n",
       "             param_grid={&#x27;criterion&#x27;: [&#x27;gini&#x27;, &#x27;entropy&#x27;], &#x27;max_depth&#x27;: [3, 4]},\n",
       "             scoring=&#x27;f1&#x27;, verbose=1)</pre><b>In a Jupyter environment, please rerun this cell to show the HTML representation or trust the notebook. <br />On GitHub, the HTML representation is unable to render, please try loading this page with nbviewer.org.</b></div><div class=\"sk-container\" hidden><div class=\"sk-item sk-dashed-wrapped\"><div class=\"sk-label-container\"><div class=\"sk-label sk-toggleable\"><input class=\"sk-toggleable__control sk-hidden--visually\" id=\"sk-estimator-id-1\" type=\"checkbox\" ><label for=\"sk-estimator-id-1\" class=\"sk-toggleable__label sk-toggleable__label-arrow\">GridSearchCV</label><div class=\"sk-toggleable__content\"><pre>GridSearchCV(cv=5, estimator=DecisionTreeClassifier(random_state=0),\n",
       "             param_grid={&#x27;criterion&#x27;: [&#x27;gini&#x27;, &#x27;entropy&#x27;], &#x27;max_depth&#x27;: [3, 4]},\n",
       "             scoring=&#x27;f1&#x27;, verbose=1)</pre></div></div></div><div class=\"sk-parallel\"><div class=\"sk-parallel-item\"><div class=\"sk-item\"><div class=\"sk-label-container\"><div class=\"sk-label sk-toggleable\"><input class=\"sk-toggleable__control sk-hidden--visually\" id=\"sk-estimator-id-2\" type=\"checkbox\" ><label for=\"sk-estimator-id-2\" class=\"sk-toggleable__label sk-toggleable__label-arrow\">estimator: DecisionTreeClassifier</label><div class=\"sk-toggleable__content\"><pre>DecisionTreeClassifier(random_state=0)</pre></div></div></div><div class=\"sk-serial\"><div class=\"sk-item\"><div class=\"sk-estimator sk-toggleable\"><input class=\"sk-toggleable__control sk-hidden--visually\" id=\"sk-estimator-id-3\" type=\"checkbox\" ><label for=\"sk-estimator-id-3\" class=\"sk-toggleable__label sk-toggleable__label-arrow\">DecisionTreeClassifier</label><div class=\"sk-toggleable__content\"><pre>DecisionTreeClassifier(random_state=0)</pre></div></div></div></div></div></div></div></div></div></div>"
      ],
      "text/plain": [
       "GridSearchCV(cv=5, estimator=DecisionTreeClassifier(random_state=0),\n",
       "             param_grid={'criterion': ['gini', 'entropy'], 'max_depth': [3, 4]},\n",
       "             scoring='f1', verbose=1)"
      ]
     },
     "execution_count": 19,
     "metadata": {},
     "output_type": "execute_result"
    }
   ],
   "source": [
    "%%time\n",
    "dt_grid.fit(X_train, y_train)"
   ]
  },
  {
   "cell_type": "code",
   "execution_count": 20,
   "id": "8657a54a-ef20-454b-a76c-3df33ecb0c59",
   "metadata": {},
   "outputs": [
    {
     "name": "stdout",
     "output_type": "stream",
     "text": [
      "Precision: 0.7274\n",
      "Recall: 0.7207\n",
      "F1-Score: 0.7240\n",
      "Accuracy: 0.8388\n",
      "-----------\n",
      "              precision    recall  f1-score   support\n",
      "\n",
      "         0.0       0.88      0.89      0.89      6794\n",
      "         1.0       0.73      0.72      0.72      2821\n",
      "\n",
      "    accuracy                           0.84      9615\n",
      "   macro avg       0.81      0.80      0.81      9615\n",
      "weighted avg       0.84      0.84      0.84      9615\n",
      "\n"
     ]
    }
   ],
   "source": [
    "y_pred_dt = dt_grid.predict(X_test)\n",
    "\n",
    "print(f\"Precision: {precision_score(y_test, y_pred_dt):0.4f}\")\n",
    "print(f\"Recall: {recall_score(y_test, y_pred_dt):0.4f}\")\n",
    "print(f\"F1-Score: {f1_score(y_test, y_pred_dt):0.4f}\")\n",
    "print(f\"Accuracy: {accuracy_score(y_test, y_pred_dt):0.4f}\")\n",
    "print(\"-----------\")\n",
    "print(classification_report(y_test, y_pred_dt))"
   ]
  },
  {
   "cell_type": "code",
   "execution_count": 21,
   "id": "c89364e8-6a9d-4945-9b63-800b5d82ba49",
   "metadata": {},
   "outputs": [
    {
     "data": {
      "image/png": "[encoded data removed]",
      "text/plain": [
       "<Figure size 640x480 with 2 Axes>"
      ]
     },
     "metadata": {},
     "output_type": "display_data"
    }
   ],
   "source": [
    "cm = confusion_matrix(y_test, y_pred_dt)\n",
    "sns.heatmap(cm, annot=True, cmap='Blues', fmt='g')\n",
    "plt.xlabel('Predicted')\n",
    "plt.ylabel('Actual')\n",
    "plt.show()"
   ]
  },
  {
   "cell_type": "markdown",
   "id": "1d69ca25-1d4b-4743-8802-5c0dc8d7d368",
   "metadata": {},
   "source": [
    "### Random Forest"
   ]
  },
  {
   "cell_type": "code",
   "execution_count": 22,
   "id": "b4e36637-618c-452e-a5d5-2939dfddd1b1",
   "metadata": {},
   "outputs": [],
   "source": [
    "rf_params = {\n",
    "    'n_estimators': [50, 100],\n",
    "    'max_depth' : [3, 4],\n",
    "}"
   ]
  },
  {
   "cell_type": "code",
   "execution_count": 23,
   "id": "e19285e1-6028-4763-9c2b-a6999d2e10bb",
   "metadata": {},
   "outputs": [],
   "source": [
    "rf_clf = RandomForestClassifier(random_state=0)"
   ]
  },
  {
   "cell_type": "code",
   "execution_count": 24,
   "id": "fccc12bf-125b-4591-a3de-b3503a0134a8",
   "metadata": {},
   "outputs": [],
   "source": [
    "rf_grid = GridSearchCV(estimator=rf_clf, param_grid=rf_params, scoring='f1', cv=5, refit=True, verbose=1)"
   ]
  },
  {
   "cell_type": "code",
   "execution_count": 25,
   "id": "4f8c7efb-9817-43b8-a3e2-11e3691f0ee8",
   "metadata": {},
   "outputs": [
    {
     "name": "stdout",
     "output_type": "stream",
     "text": [
      "Fitting 5 folds for each of 4 candidates, totalling 20 fits\n",
      "CPU times: total: 19.1 s\n",
      "Wall time: 19.1 s\n"
     ]
    },
    {
     "data": {
      "text/html": [
       "<style>#sk-container-id-2 {color: black;}#sk-container-id-2 pre{padding: 0;}#sk-container-id-2 div.sk-toggleable {background-color: white;}#sk-container-id-2 label.sk-toggleable__label {cursor: pointer;display: block;width: 100%;margin-bottom: 0;padding: 0.3em;box-sizing: border-box;text-align: center;}#sk-container-id-2 label.sk-toggleable__label-arrow:before {content: \"▸\";float: left;margin-right: 0.25em;color: #696969;}#sk-container-id-2 label.sk-toggleable__label-arrow:hover:before {color: black;}#sk-container-id-2 div.sk-estimator:hover label.sk-toggleable__label-arrow:before {color: black;}#sk-container-id-2 div.sk-toggleable__content {max-height: 0;max-width: 0;overflow: hidden;text-align: left;background-color: #f0f8ff;}#sk-container-id-2 div.sk-toggleable__content pre {margin: 0.2em;color: black;border-radius: 0.25em;background-color: #f0f8ff;}#sk-container-id-2 input.sk-toggleable__control:checked~div.sk-toggleable__content {max-height: 200px;max-width: 100%;overflow: auto;}#sk-container-id-2 input.sk-toggleable__control:checked~label.sk-toggleable__label-arrow:before {content: \"▾\";}#sk-container-id-2 div.sk-estimator input.sk-toggleable__control:checked~label.sk-toggleable__label {background-color: #d4ebff;}#sk-container-id-2 div.sk-label input.sk-toggleable__control:checked~label.sk-toggleable__label {background-color: #d4ebff;}#sk-container-id-2 input.sk-hidden--visually {border: 0;clip: rect(1px 1px 1px 1px);clip: rect(1px, 1px, 1px, 1px);height: 1px;margin: -1px;overflow: hidden;padding: 0;position: absolute;width: 1px;}#sk-container-id-2 div.sk-estimator {font-family: monospace;background-color: #f0f8ff;border: 1px dotted black;border-radius: 0.25em;box-sizing: border-box;margin-bottom: 0.5em;}#sk-container-id-2 div.sk-estimator:hover {background-color: #d4ebff;}#sk-container-id-2 div.sk-parallel-item::after {content: \"\";width: 100%;border-bottom: 1px solid gray;flex-grow: 1;}#sk-container-id-2 div.sk-label:hover label.sk-toggleable__label {background-color: #d4ebff;}#sk-container-id-2 div.sk-serial::before {content: \"\";position: absolute;border-left: 1px solid gray;box-sizing: border-box;top: 0;bottom: 0;left: 50%;z-index: 0;}#sk-container-id-2 div.sk-serial {display: flex;flex-direction: column;align-items: center;background-color: white;padding-right: 0.2em;padding-left: 0.2em;position: relative;}#sk-container-id-2 div.sk-item {position: relative;z-index: 1;}#sk-container-id-2 div.sk-parallel {display: flex;align-items: stretch;justify-content: center;background-color: white;position: relative;}#sk-container-id-2 div.sk-item::before, #sk-container-id-2 div.sk-parallel-item::before {content: \"\";position: absolute;border-left: 1px solid gray;box-sizing: border-box;top: 0;bottom: 0;left: 50%;z-index: -1;}#sk-container-id-2 div.sk-parallel-item {display: flex;flex-direction: column;z-index: 1;position: relative;background-color: white;}#sk-container-id-2 div.sk-parallel-item:first-child::after {align-self: flex-end;width: 50%;}#sk-container-id-2 div.sk-parallel-item:last-child::after {align-self: flex-start;width: 50%;}#sk-container-id-2 div.sk-parallel-item:only-child::after {width: 0;}#sk-container-id-2 div.sk-dashed-wrapped {border: 1px dashed gray;margin: 0 0.4em 0.5em 0.4em;box-sizing: border-box;padding-bottom: 0.4em;background-color: white;}#sk-container-id-2 div.sk-label label {font-family: monospace;font-weight: bold;display: inline-block;line-height: 1.2em;}#sk-container-id-2 div.sk-label-container {text-align: center;}#sk-container-id-2 div.sk-container {/* jupyter's `normalize.less` sets `[hidden] { display: none; }` but bootstrap.min.css set `[hidden] { display: none !important; }` so we also need the `!important` here to be able to override the default hidden behavior on the sphinx rendered scikit-learn.org. See: https://github.com/scikit-learn/scikit-learn/issues/21755 */display: inline-block !important;position: relative;}#sk-container-id-2 div.sk-text-repr-fallback {display: none;}</style><div id=\"sk-container-id-2\" class=\"sk-top-container\"><div class=\"sk-text-repr-fallback\"><pre>GridSearchCV(cv=5, estimator=RandomForestClassifier(random_state=0),\n",
       "             param_grid={&#x27;max_depth&#x27;: [3, 4], &#x27;n_estimators&#x27;: [50, 100]},\n",
       "             scoring=&#x27;f1&#x27;, verbose=1)</pre><b>In a Jupyter environment, please rerun this cell to show the HTML representation or trust the notebook. <br />On GitHub, the HTML representation is unable to render, please try loading this page with nbviewer.org.</b></div><div class=\"sk-container\" hidden><div class=\"sk-item sk-dashed-wrapped\"><div class=\"sk-label-container\"><div class=\"sk-label sk-toggleable\"><input class=\"sk-toggleable__control sk-hidden--visually\" id=\"sk-estimator-id-4\" type=\"checkbox\" ><label for=\"sk-estimator-id-4\" class=\"sk-toggleable__label sk-toggleable__label-arrow\">GridSearchCV</label><div class=\"sk-toggleable__content\"><pre>GridSearchCV(cv=5, estimator=RandomForestClassifier(random_state=0),\n",
       "             param_grid={&#x27;max_depth&#x27;: [3, 4], &#x27;n_estimators&#x27;: [50, 100]},\n",
       "             scoring=&#x27;f1&#x27;, verbose=1)</pre></div></div></div><div class=\"sk-parallel\"><div class=\"sk-parallel-item\"><div class=\"sk-item\"><div class=\"sk-label-container\"><div class=\"sk-label sk-toggleable\"><input class=\"sk-toggleable__control sk-hidden--visually\" id=\"sk-estimator-id-5\" type=\"checkbox\" ><label for=\"sk-estimator-id-5\" class=\"sk-toggleable__label sk-toggleable__label-arrow\">estimator: RandomForestClassifier</label><div class=\"sk-toggleable__content\"><pre>RandomForestClassifier(random_state=0)</pre></div></div></div><div class=\"sk-serial\"><div class=\"sk-item\"><div class=\"sk-estimator sk-toggleable\"><input class=\"sk-toggleable__control sk-hidden--visually\" id=\"sk-estimator-id-6\" type=\"checkbox\" ><label for=\"sk-estimator-id-6\" class=\"sk-toggleable__label sk-toggleable__label-arrow\">RandomForestClassifier</label><div class=\"sk-toggleable__content\"><pre>RandomForestClassifier(random_state=0)</pre></div></div></div></div></div></div></div></div></div></div>"
      ],
      "text/plain": [
       "GridSearchCV(cv=5, estimator=RandomForestClassifier(random_state=0),\n",
       "             param_grid={'max_depth': [3, 4], 'n_estimators': [50, 100]},\n",
       "             scoring='f1', verbose=1)"
      ]
     },
     "execution_count": 25,
     "metadata": {},
     "output_type": "execute_result"
    }
   ],
   "source": [
    "%%time\n",
    "rf_grid.fit(X_train, y_train)"
   ]
  },
  {
   "cell_type": "code",
   "execution_count": 26,
   "id": "c840160c-5f7e-4e2e-bf70-4ca30fc76d25",
   "metadata": {},
   "outputs": [
    {
     "data": {
      "text/plain": [
       "{'max_depth': 4, 'n_estimators': 100}"
      ]
     },
     "execution_count": 26,
     "metadata": {},
     "output_type": "execute_result"
    }
   ],
   "source": [
    "rf_grid.best_params_"
   ]
  },
  {
   "cell_type": "code",
   "execution_count": 27,
   "id": "d7d62e21-5c35-46c7-9e95-209d693ea5a4",
   "metadata": {},
   "outputs": [],
   "source": [
    "y_pred_rf = rf_grid.predict(X_test)"
   ]
  },
  {
   "cell_type": "code",
   "execution_count": 28,
   "id": "93110a0e-8204-44ec-9635-8a7f4144d30f",
   "metadata": {},
   "outputs": [
    {
     "name": "stdout",
     "output_type": "stream",
     "text": [
      "Precision: 0.8659\n",
      "Recall: 0.9153\n",
      "F1-Score: 0.8899\n",
      "Accuracy: 0.9335\n",
      "-----------\n",
      "              precision    recall  f1-score   support\n",
      "\n",
      "         0.0       0.96      0.94      0.95      6794\n",
      "         1.0       0.87      0.92      0.89      2821\n",
      "\n",
      "    accuracy                           0.93      9615\n",
      "   macro avg       0.91      0.93      0.92      9615\n",
      "weighted avg       0.94      0.93      0.93      9615\n",
      "\n"
     ]
    }
   ],
   "source": [
    "print(f\"Precision: {precision_score(y_test, y_pred_rf):0.4f}\") # 모델이 1로 예측한 데이터 중 실제 1인 데이터의 비율\n",
    "print(f\"Recall: {recall_score(y_test, y_pred_rf):0.4f}\") # 실제 1인 데이터 중 모델이 1로 예측한 데이터의 비율\n",
    "print(f\"F1-Score: {f1_score(y_test, y_pred_rf):0.4f}\") # 정밀도와 재현율의 조화평균\n",
    "print(f\"Accuracy: {accuracy_score(y_test, y_pred_rf):0.4f}\")\n",
    "print(\"-----------\")\n",
    "print(classification_report(y_test, y_pred_rf))"
   ]
  },
  {
   "cell_type": "code",
   "execution_count": 29,
   "id": "2cead3ba-6c1f-4534-9f93-11ac143e9d76",
   "metadata": {},
   "outputs": [
    {
     "data": {
      "image/png": "[encoded data removed]",
      "text/plain": [
       "<Figure size 640x480 with 2 Axes>"
      ]
     },
     "metadata": {},
     "output_type": "display_data"
    }
   ],
   "source": [
    "cm = confusion_matrix(y_test, y_pred_rf)\n",
    "sns.heatmap(cm, annot=True, cmap='Blues', fmt='g')\n",
    "plt.xlabel('Predicted')\n",
    "plt.ylabel('Actual')\n",
    "plt.show()"
   ]
  },
  {
   "cell_type": "markdown",
   "id": "a90f70e4-c8c5-4055-b2c5-c471b569e1be",
   "metadata": {},
   "source": [
    "### Support Vector Machine(SVM)"
   ]
  },
  {
   "cell_type": "code",
   "execution_count": 30,
   "id": "a75d736b-16d6-4044-878b-d7892b0eb45f",
   "metadata": {},
   "outputs": [],
   "source": [
    "from sklearn.svm import SVC\n",
    "from sklearn.pipeline import make_pipeline\n",
    "from sklearn.preprocessing import MinMaxScaler, StandardScaler\n",
    "\n",
    "scaler = MinMaxScaler()\n",
    "X_train_scaled = scaler.fit_transform(X_train)\n",
    "X_test_scaled = scaler.fit_transform(X_test)"
   ]
  },
  {
   "cell_type": "code",
   "execution_count": 31,
   "id": "63b6b048-6804-4ac6-be11-5069bb31058f",
   "metadata": {},
   "outputs": [
    {
     "name": "stdout",
     "output_type": "stream",
     "text": [
      "Fitting 5 folds for each of 1 candidates, totalling 5 fits\n"
     ]
    },
    {
     "data": {
      "text/html": [
       "<style>#sk-container-id-3 {color: black;}#sk-container-id-3 pre{padding: 0;}#sk-container-id-3 div.sk-toggleable {background-color: white;}#sk-container-id-3 label.sk-toggleable__label {cursor: pointer;display: block;width: 100%;margin-bottom: 0;padding: 0.3em;box-sizing: border-box;text-align: center;}#sk-container-id-3 label.sk-toggleable__label-arrow:before {content: \"▸\";float: left;margin-right: 0.25em;color: #696969;}#sk-container-id-3 label.sk-toggleable__label-arrow:hover:before {color: black;}#sk-container-id-3 div.sk-estimator:hover label.sk-toggleable__label-arrow:before {color: black;}#sk-container-id-3 div.sk-toggleable__content {max-height: 0;max-width: 0;overflow: hidden;text-align: left;background-color: #f0f8ff;}#sk-container-id-3 div.sk-toggleable__content pre {margin: 0.2em;color: black;border-radius: 0.25em;background-color: #f0f8ff;}#sk-container-id-3 input.sk-toggleable__control:checked~div.sk-toggleable__content {max-height: 200px;max-width: 100%;overflow: auto;}#sk-container-id-3 input.sk-toggleable__control:checked~label.sk-toggleable__label-arrow:before {content: \"▾\";}#sk-container-id-3 div.sk-estimator input.sk-toggleable__control:checked~label.sk-toggleable__label {background-color: #d4ebff;}#sk-container-id-3 div.sk-label input.sk-toggleable__control:checked~label.sk-toggleable__label {background-color: #d4ebff;}#sk-container-id-3 input.sk-hidden--visually {border: 0;clip: rect(1px 1px 1px 1px);clip: rect(1px, 1px, 1px, 1px);height: 1px;margin: -1px;overflow: hidden;padding: 0;position: absolute;width: 1px;}#sk-container-id-3 div.sk-estimator {font-family: monospace;background-color: #f0f8ff;border: 1px dotted black;border-radius: 0.25em;box-sizing: border-box;margin-bottom: 0.5em;}#sk-container-id-3 div.sk-estimator:hover {background-color: #d4ebff;}#sk-container-id-3 div.sk-parallel-item::after {content: \"\";width: 100%;border-bottom: 1px solid gray;flex-grow: 1;}#sk-container-id-3 div.sk-label:hover label.sk-toggleable__label {background-color: #d4ebff;}#sk-container-id-3 div.sk-serial::before {content: \"\";position: absolute;border-left: 1px solid gray;box-sizing: border-box;top: 0;bottom: 0;left: 50%;z-index: 0;}#sk-container-id-3 div.sk-serial {display: flex;flex-direction: column;align-items: center;background-color: white;padding-right: 0.2em;padding-left: 0.2em;position: relative;}#sk-container-id-3 div.sk-item {position: relative;z-index: 1;}#sk-container-id-3 div.sk-parallel {display: flex;align-items: stretch;justify-content: center;background-color: white;position: relative;}#sk-container-id-3 div.sk-item::before, #sk-container-id-3 div.sk-parallel-item::before {content: \"\";position: absolute;border-left: 1px solid gray;box-sizing: border-box;top: 0;bottom: 0;left: 50%;z-index: -1;}#sk-container-id-3 div.sk-parallel-item {display: flex;flex-direction: column;z-index: 1;position: relative;background-color: white;}#sk-container-id-3 div.sk-parallel-item:first-child::after {align-self: flex-end;width: 50%;}#sk-container-id-3 div.sk-parallel-item:last-child::after {align-self: flex-start;width: 50%;}#sk-container-id-3 div.sk-parallel-item:only-child::after {width: 0;}#sk-container-id-3 div.sk-dashed-wrapped {border: 1px dashed gray;margin: 0 0.4em 0.5em 0.4em;box-sizing: border-box;padding-bottom: 0.4em;background-color: white;}#sk-container-id-3 div.sk-label label {font-family: monospace;font-weight: bold;display: inline-block;line-height: 1.2em;}#sk-container-id-3 div.sk-label-container {text-align: center;}#sk-container-id-3 div.sk-container {/* jupyter's `normalize.less` sets `[hidden] { display: none; }` but bootstrap.min.css set `[hidden] { display: none !important; }` so we also need the `!important` here to be able to override the default hidden behavior on the sphinx rendered scikit-learn.org. See: https://github.com/scikit-learn/scikit-learn/issues/21755 */display: inline-block !important;position: relative;}#sk-container-id-3 div.sk-text-repr-fallback {display: none;}</style><div id=\"sk-container-id-3\" class=\"sk-top-container\"><div class=\"sk-text-repr-fallback\"><pre>GridSearchCV(cv=5, estimator=SVC(gamma=&#x27;auto&#x27;), param_grid={&#x27;kernel&#x27;: [&#x27;rbf&#x27;]},\n",
       "             scoring=&#x27;f1&#x27;, verbose=1)</pre><b>In a Jupyter environment, please rerun this cell to show the HTML representation or trust the notebook. <br />On GitHub, the HTML representation is unable to render, please try loading this page with nbviewer.org.</b></div><div class=\"sk-container\" hidden><div class=\"sk-item sk-dashed-wrapped\"><div class=\"sk-label-container\"><div class=\"sk-label sk-toggleable\"><input class=\"sk-toggleable__control sk-hidden--visually\" id=\"sk-estimator-id-7\" type=\"checkbox\" ><label for=\"sk-estimator-id-7\" class=\"sk-toggleable__label sk-toggleable__label-arrow\">GridSearchCV</label><div class=\"sk-toggleable__content\"><pre>GridSearchCV(cv=5, estimator=SVC(gamma=&#x27;auto&#x27;), param_grid={&#x27;kernel&#x27;: [&#x27;rbf&#x27;]},\n",
       "             scoring=&#x27;f1&#x27;, verbose=1)</pre></div></div></div><div class=\"sk-parallel\"><div class=\"sk-parallel-item\"><div class=\"sk-item\"><div class=\"sk-label-container\"><div class=\"sk-label sk-toggleable\"><input class=\"sk-toggleable__control sk-hidden--visually\" id=\"sk-estimator-id-8\" type=\"checkbox\" ><label for=\"sk-estimator-id-8\" class=\"sk-toggleable__label sk-toggleable__label-arrow\">estimator: SVC</label><div class=\"sk-toggleable__content\"><pre>SVC(gamma=&#x27;auto&#x27;)</pre></div></div></div><div class=\"sk-serial\"><div class=\"sk-item\"><div class=\"sk-estimator sk-toggleable\"><input class=\"sk-toggleable__control sk-hidden--visually\" id=\"sk-estimator-id-9\" type=\"checkbox\" ><label for=\"sk-estimator-id-9\" class=\"sk-toggleable__label sk-toggleable__label-arrow\">SVC</label><div class=\"sk-toggleable__content\"><pre>SVC(gamma=&#x27;auto&#x27;)</pre></div></div></div></div></div></div></div></div></div></div>"
      ],
      "text/plain": [
       "GridSearchCV(cv=5, estimator=SVC(gamma='auto'), param_grid={'kernel': ['rbf']},\n",
       "             scoring='f1', verbose=1)"
      ]
     },
     "execution_count": 31,
     "metadata": {},
     "output_type": "execute_result"
    }
   ],
   "source": [
    "svm_params = {\n",
    "    'kernel':['rbf'] # poly, linear, sigmoid, precomupted\n",
    "}\n",
    "\n",
    "svm_clf = SVC(gamma='auto')\n",
    "svm_grid = GridSearchCV(estimator=svm_clf, param_grid=svm_params, scoring='f1', cv=5, refit=True, verbose=1)\n",
    "svm_grid.fit(X_train_scaled, y_train)"
   ]
  },
  {
   "cell_type": "code",
   "execution_count": 32,
   "id": "284d5371-333f-4b1a-8ee3-b6ae986b566f",
   "metadata": {},
   "outputs": [
    {
     "name": "stdout",
     "output_type": "stream",
     "text": [
      "Precision: 0.7859\n",
      "Recall: 0.7845\n",
      "F1-Score: 0.7852\n",
      "Accuracy: 0.8741\n",
      "-----------\n",
      "              precision    recall  f1-score   support\n",
      "\n",
      "         0.0       0.91      0.91      0.91      6794\n",
      "         1.0       0.79      0.78      0.79      2821\n",
      "\n",
      "    accuracy                           0.87      9615\n",
      "   macro avg       0.85      0.85      0.85      9615\n",
      "weighted avg       0.87      0.87      0.87      9615\n",
      "\n"
     ]
    }
   ],
   "source": [
    "y_pred_svm = svm_grid.predict(X_test_scaled)\n",
    "\n",
    "print(f\"Precision: {precision_score(y_test, y_pred_svm):0.4f}\") # 모델이 1로 예측한 데이터 중 실제 1인 데이터의 비율\n",
    "print(f\"Recall: {recall_score(y_test, y_pred_svm):0.4f}\") # 실제 1인 데이터 중 모델이 1로 예측한 데이터의 비율\n",
    "print(f\"F1-Score: {f1_score(y_test, y_pred_svm):0.4f}\") # 정밀도와 재현율의 조화평균\n",
    "print(f\"Accuracy: {accuracy_score(y_test, y_pred_svm):0.4f}\")\n",
    "print(\"-----------\")\n",
    "print(classification_report(y_test, y_pred_svm))"
   ]
  },
  {
   "cell_type": "code",
   "execution_count": 33,
   "id": "6e0d01ee-7789-4a50-bf3d-ac53dbd9e44d",
   "metadata": {},
   "outputs": [
    {
     "data": {
      "image/png": "[encoded data removed]",
      "text/plain": [
       "<Figure size 640x480 with 2 Axes>"
      ]
     },
     "metadata": {},
     "output_type": "display_data"
    }
   ],
   "source": [
    "cm = confusion_matrix(y_test, y_pred_svm)\n",
    "sns.heatmap(cm, annot=True, cmap='Blues', fmt='g')\n",
    "plt.xlabel('Predicted')\n",
    "plt.ylabel('Actual')\n",
    "plt.show()"
   ]
  },
  {
   "cell_type": "code",
   "execution_count": 34,
   "id": "0addcb8e-b00f-43b0-bd97-17c1da4382e1",
   "metadata": {},
   "outputs": [
    {
     "data": {
      "text/plain": [
       "array([0.70762097, 1.70411729])"
      ]
     },
     "execution_count": 34,
     "metadata": {},
     "output_type": "execute_result"
    }
   ],
   "source": [
    "len(y_train) / (len(np.unique(y_train)) * np.bincount(y_train))"
   ]
  },
  {
   "cell_type": "code",
   "execution_count": 35,
   "id": "21fd5f10-763b-445a-b007-d532cca15124",
   "metadata": {},
   "outputs": [
    {
     "data": {
      "text/plain": [
       "array([15851,  6582], dtype=int64)"
      ]
     },
     "execution_count": 35,
     "metadata": {},
     "output_type": "execute_result"
    }
   ],
   "source": [
    "np.bincount(y_train)"
   ]
  },
  {
   "cell_type": "markdown",
   "id": "108bc462-15e5-4c79-83bb-4f6a5af58447",
   "metadata": {},
   "source": [
    "### Logistic Ridge"
   ]
  },
  {
   "cell_type": "code",
   "execution_count": 36,
   "id": "16f5cf85-7757-4fb7-84ba-61a2456315d2",
   "metadata": {},
   "outputs": [],
   "source": [
    "# https://scikit-learn.org/stable/modules/generated/sklearn.linear_model.RidgeClassifier.html\n",
    "\n",
    "from sklearn.linear_model import RidgeClassifier\n",
    "\n",
    "# n_samples / (n_classes * np.bincount(y))\n",
    "class_weight_ = len(y_train) / (len(np.unique(y_train)) * np.bincount(y_train))\n",
    "\n",
    "lr_params = {\n",
    "    'alpha': [1.0],\n",
    "    'class_weight': [{0: class_weight_[0], 1: class_weight_[1]}]\n",
    "}"
   ]
  },
  {
   "cell_type": "code",
   "execution_count": 37,
   "id": "8458a577-7e4c-42cc-9fe8-3cf01adf7e5a",
   "metadata": {},
   "outputs": [
    {
     "name": "stdout",
     "output_type": "stream",
     "text": [
      "Fitting 5 folds for each of 1 candidates, totalling 5 fits\n"
     ]
    },
    {
     "data": {
      "text/html": [
       "<style>#sk-container-id-4 {color: black;}#sk-container-id-4 pre{padding: 0;}#sk-container-id-4 div.sk-toggleable {background-color: white;}#sk-container-id-4 label.sk-toggleable__label {cursor: pointer;display: block;width: 100%;margin-bottom: 0;padding: 0.3em;box-sizing: border-box;text-align: center;}#sk-container-id-4 label.sk-toggleable__label-arrow:before {content: \"▸\";float: left;margin-right: 0.25em;color: #696969;}#sk-container-id-4 label.sk-toggleable__label-arrow:hover:before {color: black;}#sk-container-id-4 div.sk-estimator:hover label.sk-toggleable__label-arrow:before {color: black;}#sk-container-id-4 div.sk-toggleable__content {max-height: 0;max-width: 0;overflow: hidden;text-align: left;background-color: #f0f8ff;}#sk-container-id-4 div.sk-toggleable__content pre {margin: 0.2em;color: black;border-radius: 0.25em;background-color: #f0f8ff;}#sk-container-id-4 input.sk-toggleable__control:checked~div.sk-toggleable__content {max-height: 200px;max-width: 100%;overflow: auto;}#sk-container-id-4 input.sk-toggleable__control:checked~label.sk-toggleable__label-arrow:before {content: \"▾\";}#sk-container-id-4 div.sk-estimator input.sk-toggleable__control:checked~label.sk-toggleable__label {background-color: #d4ebff;}#sk-container-id-4 div.sk-label input.sk-toggleable__control:checked~label.sk-toggleable__label {background-color: #d4ebff;}#sk-container-id-4 input.sk-hidden--visually {border: 0;clip: rect(1px 1px 1px 1px);clip: rect(1px, 1px, 1px, 1px);height: 1px;margin: -1px;overflow: hidden;padding: 0;position: absolute;width: 1px;}#sk-container-id-4 div.sk-estimator {font-family: monospace;background-color: #f0f8ff;border: 1px dotted black;border-radius: 0.25em;box-sizing: border-box;margin-bottom: 0.5em;}#sk-container-id-4 div.sk-estimator:hover {background-color: #d4ebff;}#sk-container-id-4 div.sk-parallel-item::after {content: \"\";width: 100%;border-bottom: 1px solid gray;flex-grow: 1;}#sk-container-id-4 div.sk-label:hover label.sk-toggleable__label {background-color: #d4ebff;}#sk-container-id-4 div.sk-serial::before {content: \"\";position: absolute;border-left: 1px solid gray;box-sizing: border-box;top: 0;bottom: 0;left: 50%;z-index: 0;}#sk-container-id-4 div.sk-serial {display: flex;flex-direction: column;align-items: center;background-color: white;padding-right: 0.2em;padding-left: 0.2em;position: relative;}#sk-container-id-4 div.sk-item {position: relative;z-index: 1;}#sk-container-id-4 div.sk-parallel {display: flex;align-items: stretch;justify-content: center;background-color: white;position: relative;}#sk-container-id-4 div.sk-item::before, #sk-container-id-4 div.sk-parallel-item::before {content: \"\";position: absolute;border-left: 1px solid gray;box-sizing: border-box;top: 0;bottom: 0;left: 50%;z-index: -1;}#sk-container-id-4 div.sk-parallel-item {display: flex;flex-direction: column;z-index: 1;position: relative;background-color: white;}#sk-container-id-4 div.sk-parallel-item:first-child::after {align-self: flex-end;width: 50%;}#sk-container-id-4 div.sk-parallel-item:last-child::after {align-self: flex-start;width: 50%;}#sk-container-id-4 div.sk-parallel-item:only-child::after {width: 0;}#sk-container-id-4 div.sk-dashed-wrapped {border: 1px dashed gray;margin: 0 0.4em 0.5em 0.4em;box-sizing: border-box;padding-bottom: 0.4em;background-color: white;}#sk-container-id-4 div.sk-label label {font-family: monospace;font-weight: bold;display: inline-block;line-height: 1.2em;}#sk-container-id-4 div.sk-label-container {text-align: center;}#sk-container-id-4 div.sk-container {/* jupyter's `normalize.less` sets `[hidden] { display: none; }` but bootstrap.min.css set `[hidden] { display: none !important; }` so we also need the `!important` here to be able to override the default hidden behavior on the sphinx rendered scikit-learn.org. See: https://github.com/scikit-learn/scikit-learn/issues/21755 */display: inline-block !important;position: relative;}#sk-container-id-4 div.sk-text-repr-fallback {display: none;}</style><div id=\"sk-container-id-4\" class=\"sk-top-container\"><div class=\"sk-text-repr-fallback\"><pre>GridSearchCV(cv=5, estimator=RidgeClassifier(random_state=0),\n",
       "             param_grid={&#x27;alpha&#x27;: [1.0],\n",
       "                         &#x27;class_weight&#x27;: [{0: 0.7076209702857864,\n",
       "                                           1: 1.704117289577636}]},\n",
       "             scoring=&#x27;f1&#x27;, verbose=1)</pre><b>In a Jupyter environment, please rerun this cell to show the HTML representation or trust the notebook. <br />On GitHub, the HTML representation is unable to render, please try loading this page with nbviewer.org.</b></div><div class=\"sk-container\" hidden><div class=\"sk-item sk-dashed-wrapped\"><div class=\"sk-label-container\"><div class=\"sk-label sk-toggleable\"><input class=\"sk-toggleable__control sk-hidden--visually\" id=\"sk-estimator-id-10\" type=\"checkbox\" ><label for=\"sk-estimator-id-10\" class=\"sk-toggleable__label sk-toggleable__label-arrow\">GridSearchCV</label><div class=\"sk-toggleable__content\"><pre>GridSearchCV(cv=5, estimator=RidgeClassifier(random_state=0),\n",
       "             param_grid={&#x27;alpha&#x27;: [1.0],\n",
       "                         &#x27;class_weight&#x27;: [{0: 0.7076209702857864,\n",
       "                                           1: 1.704117289577636}]},\n",
       "             scoring=&#x27;f1&#x27;, verbose=1)</pre></div></div></div><div class=\"sk-parallel\"><div class=\"sk-parallel-item\"><div class=\"sk-item\"><div class=\"sk-label-container\"><div class=\"sk-label sk-toggleable\"><input class=\"sk-toggleable__control sk-hidden--visually\" id=\"sk-estimator-id-11\" type=\"checkbox\" ><label for=\"sk-estimator-id-11\" class=\"sk-toggleable__label sk-toggleable__label-arrow\">estimator: RidgeClassifier</label><div class=\"sk-toggleable__content\"><pre>RidgeClassifier(random_state=0)</pre></div></div></div><div class=\"sk-serial\"><div class=\"sk-item\"><div class=\"sk-estimator sk-toggleable\"><input class=\"sk-toggleable__control sk-hidden--visually\" id=\"sk-estimator-id-12\" type=\"checkbox\" ><label for=\"sk-estimator-id-12\" class=\"sk-toggleable__label sk-toggleable__label-arrow\">RidgeClassifier</label><div class=\"sk-toggleable__content\"><pre>RidgeClassifier(random_state=0)</pre></div></div></div></div></div></div></div></div></div></div>"
      ],
      "text/plain": [
       "GridSearchCV(cv=5, estimator=RidgeClassifier(random_state=0),\n",
       "             param_grid={'alpha': [1.0],\n",
       "                         'class_weight': [{0: 0.7076209702857864,\n",
       "                                           1: 1.704117289577636}]},\n",
       "             scoring='f1', verbose=1)"
      ]
     },
     "execution_count": 37,
     "metadata": {},
     "output_type": "execute_result"
    }
   ],
   "source": [
    "from sklearn.linear_model import LogisticRegression\n",
    "\n",
    "lr_clf = RidgeClassifier(random_state=0)\n",
    "\n",
    "lr_grid = GridSearchCV(lr_clf, param_grid=lr_params, cv=5, scoring='f1', refit=True, verbose=1)\n",
    "# 학습\n",
    "lr_grid.fit(X_train_scaled, y_train)"
   ]
  },
  {
   "cell_type": "code",
   "execution_count": 38,
   "id": "0fa56ab5-2ecd-4a0c-9952-26e773e1c1f8",
   "metadata": {},
   "outputs": [],
   "source": [
    "y_pred_lr = lr_grid.predict(X_test_scaled)"
   ]
  },
  {
   "cell_type": "code",
   "execution_count": 39,
   "id": "fec9b523-9a4c-42b0-913b-b801e95d3e29",
   "metadata": {},
   "outputs": [
    {
     "name": "stdout",
     "output_type": "stream",
     "text": [
      "Precision: 0.7729\n",
      "Recall: 0.7841\n",
      "F1-Score: 0.7785\n",
      "Accuracy: 0.8691\n",
      "-----------\n",
      "              precision    recall  f1-score   support\n",
      "\n",
      "         0.0       0.91      0.90      0.91      6794\n",
      "         1.0       0.77      0.78      0.78      2821\n",
      "\n",
      "    accuracy                           0.87      9615\n",
      "   macro avg       0.84      0.84      0.84      9615\n",
      "weighted avg       0.87      0.87      0.87      9615\n",
      "\n"
     ]
    }
   ],
   "source": [
    "print(f\"Precision: {precision_score(y_test, y_pred_lr):0.4f}\") # 모델이 1로 예측한 데이터 중 실제 1인 데이터의 비율\n",
    "print(f\"Recall: {recall_score(y_test, y_pred_lr):0.4f}\") # 실제 1인 데이터 중 모델이 1로 예측한 데이터의 비율\n",
    "print(f\"F1-Score: {f1_score(y_test, y_pred_lr):0.4f}\") # 정밀도와 재현율의 조화평균\n",
    "print(f\"Accuracy: {accuracy_score(y_test, y_pred_lr):0.4f}\")\n",
    "print(\"-----------\")\n",
    "print(classification_report(y_test, y_pred_lr))"
   ]
  },
  {
   "cell_type": "code",
   "execution_count": null,
   "id": "f949f3d8-ddac-4ed9-a1e7-5e240c186c5d",
   "metadata": {},
   "outputs": [],
   "source": []
  },
  {
   "cell_type": "code",
   "execution_count": null,
   "id": "c356682d-89ab-4bed-96a3-ed727e13da19",
   "metadata": {},
   "outputs": [],
   "source": []
  }
 ],
 "metadata": {
  "kernelspec": {
   "display_name": "Python 3 (ipykernel)",
   "language": "python",
   "name": "python3"
  },
  "language_info": {
   "codemirror_mode": {
    "name": "ipython",
    "version": 3
   },
   "file_extension": ".py",
   "mimetype": "text/x-python",
   "name": "python",
   "nbconvert_exporter": "python",
   "pygments_lexer": "ipython3",
   "version": "3.11.6"
  }
 },
 "nbformat": 4,
 "nbformat_minor": 5
}
